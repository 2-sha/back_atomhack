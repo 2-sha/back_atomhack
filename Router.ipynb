{
 "cells": [
  {
   "cell_type": "code",
   "execution_count": 1,
   "id": "c1f6e538",
   "metadata": {},
   "outputs": [],
   "source": [
    "import sys\n",
    "import os\n",
    "import django\n",
    "\n",
    "sys.path.extend(['/Users/a.khalitov/Documents/work/atomhack/back'])\n",
    "os.environ[\"DJANGO_ALLOW_ASYNC_UNSAFE\"] = \"true\"\n",
    "\n",
    "if 'setup' in dir(django): \n",
    "    django.setup()"
   ]
  },
  {
   "cell_type": "code",
   "execution_count": 34,
   "id": "24acd7fe",
   "metadata": {},
   "outputs": [],
   "source": [
    "from user.models import User, UserPerk\n",
    "from core.models import Tag, Perk, TagPerk\n",
    "from tasks.models import Task\n",
    "from department.models import Department\n",
    "\n",
    "from django.db.models import Sum, F, Count"
   ]
  },
  {
   "cell_type": "code",
   "execution_count": 8,
   "id": "257b28b3",
   "metadata": {},
   "outputs": [],
   "source": [
    "import pandas as pd\n",
    "import random"
   ]
  },
  {
   "cell_type": "code",
   "execution_count": 46,
   "id": "fcd62798",
   "metadata": {},
   "outputs": [
    {
     "data": {
      "text/html": [
       "<div>\n",
       "<style scoped>\n",
       "    .dataframe tbody tr th:only-of-type {\n",
       "        vertical-align: middle;\n",
       "    }\n",
       "\n",
       "    .dataframe tbody tr th {\n",
       "        vertical-align: top;\n",
       "    }\n",
       "\n",
       "    .dataframe thead th {\n",
       "        text-align: right;\n",
       "    }\n",
       "</style>\n",
       "<table border=\"1\" class=\"dataframe\">\n",
       "  <thead>\n",
       "    <tr style=\"text-align: right;\">\n",
       "      <th></th>\n",
       "      <th>Перк</th>\n",
       "      <th>Тег</th>\n",
       "      <th>Уровень</th>\n",
       "    </tr>\n",
       "  </thead>\n",
       "  <tbody>\n",
       "    <tr>\n",
       "      <th>0</th>\n",
       "      <td>Образование</td>\n",
       "      <td>Учебник</td>\n",
       "      <td>0.95</td>\n",
       "    </tr>\n",
       "    <tr>\n",
       "      <th>1</th>\n",
       "      <td>Образование</td>\n",
       "      <td>Парта</td>\n",
       "      <td>0.91</td>\n",
       "    </tr>\n",
       "    <tr>\n",
       "      <th>2</th>\n",
       "      <td>Образование</td>\n",
       "      <td>Лопата</td>\n",
       "      <td>0.40</td>\n",
       "    </tr>\n",
       "    <tr>\n",
       "      <th>3</th>\n",
       "      <td>ЖКХ</td>\n",
       "      <td>Учебник</td>\n",
       "      <td>0.18</td>\n",
       "    </tr>\n",
       "    <tr>\n",
       "      <th>4</th>\n",
       "      <td>ЖКХ</td>\n",
       "      <td>Парта</td>\n",
       "      <td>0.23</td>\n",
       "    </tr>\n",
       "    <tr>\n",
       "      <th>5</th>\n",
       "      <td>ЖКХ</td>\n",
       "      <td>Лопата</td>\n",
       "      <td>0.60</td>\n",
       "    </tr>\n",
       "  </tbody>\n",
       "</table>\n",
       "</div>"
      ],
      "text/plain": [
       "          Перк      Тег  Уровень\n",
       "0  Образование  Учебник     0.95\n",
       "1  Образование    Парта     0.91\n",
       "2  Образование   Лопата     0.40\n",
       "3          ЖКХ  Учебник     0.18\n",
       "4          ЖКХ    Парта     0.23\n",
       "5          ЖКХ   Лопата     0.60"
      ]
     },
     "execution_count": 46,
     "metadata": {},
     "output_type": "execute_result"
    }
   ],
   "source": [
    "# Заполняем матриу тегов-перков\n",
    "perk_list = Perk.objects.all()\n",
    "tag_list = Tag.objects.all()\n",
    "\n",
    "table = []\n",
    "for perk in perk_list:\n",
    "    for tag in tag_list:\n",
    "        level = 1\n",
    "        tag_perk = TagPerk.objects.filter(tag=tag, perk=perk)\n",
    "        if tag_perk.exists():\n",
    "            level = tag_perk.first().level\n",
    "        else:\n",
    "            TagPerk.objects.create(tag=tag, perk=perk, level=level)\n",
    "        table.append([perk.name, tag.name, level])\n",
    "\n",
    "pd.DataFrame(table, columns=['Перк','Тег', 'Уровень'])"
   ]
  },
  {
   "cell_type": "code",
   "execution_count": 45,
   "id": "4090c77e",
   "metadata": {},
   "outputs": [
    {
     "data": {
      "text/html": [
       "<div>\n",
       "<style scoped>\n",
       "    .dataframe tbody tr th:only-of-type {\n",
       "        vertical-align: middle;\n",
       "    }\n",
       "\n",
       "    .dataframe tbody tr th {\n",
       "        vertical-align: top;\n",
       "    }\n",
       "\n",
       "    .dataframe thead th {\n",
       "        text-align: right;\n",
       "    }\n",
       "</style>\n",
       "<table border=\"1\" class=\"dataframe\">\n",
       "  <thead>\n",
       "    <tr style=\"text-align: right;\">\n",
       "      <th></th>\n",
       "      <th>Перк</th>\n",
       "      <th>Сотрудник</th>\n",
       "      <th>Уровень</th>\n",
       "    </tr>\n",
       "  </thead>\n",
       "  <tbody>\n",
       "    <tr>\n",
       "      <th>0</th>\n",
       "      <td>Образование</td>\n",
       "      <td>Миша</td>\n",
       "      <td>0.50</td>\n",
       "    </tr>\n",
       "    <tr>\n",
       "      <th>1</th>\n",
       "      <td>Образование</td>\n",
       "      <td>Вася</td>\n",
       "      <td>0.70</td>\n",
       "    </tr>\n",
       "    <tr>\n",
       "      <th>2</th>\n",
       "      <td>Образование</td>\n",
       "      <td>Петя</td>\n",
       "      <td>0.30</td>\n",
       "    </tr>\n",
       "    <tr>\n",
       "      <th>3</th>\n",
       "      <td>ЖКХ</td>\n",
       "      <td>Миша</td>\n",
       "      <td>0.30</td>\n",
       "    </tr>\n",
       "    <tr>\n",
       "      <th>4</th>\n",
       "      <td>ЖКХ</td>\n",
       "      <td>Вася</td>\n",
       "      <td>0.05</td>\n",
       "    </tr>\n",
       "    <tr>\n",
       "      <th>5</th>\n",
       "      <td>ЖКХ</td>\n",
       "      <td>Петя</td>\n",
       "      <td>0.80</td>\n",
       "    </tr>\n",
       "  </tbody>\n",
       "</table>\n",
       "</div>"
      ],
      "text/plain": [
       "          Перк Сотрудник  Уровень\n",
       "0  Образование      Миша     0.50\n",
       "1  Образование      Вася     0.70\n",
       "2  Образование      Петя     0.30\n",
       "3          ЖКХ      Миша     0.30\n",
       "4          ЖКХ      Вася     0.05\n",
       "5          ЖКХ      Петя     0.80"
      ]
     },
     "execution_count": 45,
     "metadata": {},
     "output_type": "execute_result"
    }
   ],
   "source": [
    "# Заполняем матрицу перк-сотрудник\n",
    "user_list = User.objects.all().exclude(username='admin')\n",
    "perk_list = Perk.objects.all()\n",
    "\n",
    "table = []\n",
    "for perk in perk_list:\n",
    "    for user in user_list:\n",
    "        level = 1\n",
    "        user_perk = UserPerk.objects.filter(user=user, perk=perk)\n",
    "        if user_perk.exists():\n",
    "            level = user_perk.first().level\n",
    "        else:\n",
    "            UserPerk.objects.create(user=user, perk=perk, level=level)\n",
    "        table.append([perk.name, user.name, level])\n",
    "            \n",
    "pd.DataFrame(table, columns=['Перк','Сотрудник', 'Уровень'])"
   ]
  },
  {
   "cell_type": "code",
   "execution_count": 75,
   "id": "f4915e69",
   "metadata": {},
   "outputs": [],
   "source": [
    "# Считаем, кому дать задачу\n",
    "def route_task(task):\n",
    "    perk_tags_level_avg = {}\n",
    "    for perk in Perk.objects.all().annotate(tags_level_sum=Sum('tagperk__level')):\n",
    "        perk_tags_level_avg[perk.id] = perk.tags_level_sum\n",
    "        \n",
    "    user_list = User.objects\\\n",
    "        .annotate(num_tasks=Count('tasks'))\\\n",
    "        .filter(num_tasks__lte=F('max_slots'))\\\n",
    "        .exclude(username='admin')\\\n",
    "        .order_by('num_tasks')\n",
    "    \n",
    "    max_val = 0\n",
    "    candidates = [] # Юзеры с одинаковой вероятностью\n",
    "    for user in user_list:\n",
    "        calculated = 0\n",
    "        \n",
    "        for user_perk in UserPerk.objects.filter(user=user):\n",
    "            calculated += user_perk.level * perk_tags_level_avg[user_perk.perk.id]\n",
    "            \n",
    "        print(f'{user.name}: {round(calculated, 2)}')\n",
    "        if calculated >= max_val:\n",
    "            max_val = calculated\n",
    "            if calculated != max_val:\n",
    "                candidates.clear()\n",
    "            candidates.append(user)\n",
    "    \n",
    "    # Симулируем работу оператора\n",
    "    if len(candidates) > 0:\n",
    "        return random.choice(candidates)"
   ]
  },
  {
   "cell_type": "code",
   "execution_count": 76,
   "id": "8faa5caf",
   "metadata": {},
   "outputs": [
    {
     "name": "stdout",
     "output_type": "stream",
     "text": [
      " Вася: 1.63\n",
      " Миша: 1.43\n",
      " Петя: 1.49\n",
      " Вася\n"
     ]
    }
   ],
   "source": [
    "task = Task.objects.get(id=1)\n",
    "print(route_task(task))"
   ]
  },
  {
   "cell_type": "code",
   "execution_count": null,
   "id": "06e9ea50",
   "metadata": {},
   "outputs": [],
   "source": [
    "def update_user_perks(user, rate):\n",
    "    user_perks = UserPerk.objects.filter(user=user)\n",
    "    \n",
    "    for user_perk in user_perks:\n",
    "        user_perk.level = user_perk.level + user_perk.level * (rate - ) / (rate + )"
   ]
  },
  {
   "cell_type": "code",
   "execution_count": null,
   "id": "bb51e7a7",
   "metadata": {},
   "outputs": [],
   "source": [
    "def update_tag_perks(tag, perks):\n",
    "    pass"
   ]
  }
 ],
 "metadata": {
  "kernelspec": {
   "display_name": "Python 3 (ipykernel)",
   "language": "python",
   "name": "python3"
  },
  "language_info": {
   "codemirror_mode": {
    "name": "ipython",
    "version": 3
   },
   "file_extension": ".py",
   "mimetype": "text/x-python",
   "name": "python",
   "nbconvert_exporter": "python",
   "pygments_lexer": "ipython3",
   "version": "3.8.2"
  }
 },
 "nbformat": 4,
 "nbformat_minor": 5
}
