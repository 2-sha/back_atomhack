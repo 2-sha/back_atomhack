{
 "cells": [
  {
   "cell_type": "code",
   "execution_count": 7,
   "id": "7a0b25a6",
   "metadata": {},
   "outputs": [],
   "source": [
    "import pandas as pd\n",
    "import operator\n",
    "from pprint import pprint"
   ]
  },
  {
   "cell_type": "code",
   "execution_count": 5,
   "id": "3fd45d20",
   "metadata": {},
   "outputs": [
    {
     "name": "stderr",
     "output_type": "stream",
     "text": [
      "[nltk_data] Downloading package punkt to\n",
      "[nltk_data]     /Users/a.khalitov/nltk_data...\n",
      "[nltk_data]   Unzipping tokenizers/punkt.zip.\n"
     ]
    },
    {
     "data": {
      "text/plain": [
       "True"
      ]
     },
     "execution_count": 5,
     "metadata": {},
     "output_type": "execute_result"
    }
   ],
   "source": [
    "from nltk.probability import FreqDist\n",
    "from nltk.stem.snowball import SnowballStemmer\n",
    "import nltk\n",
    "nltk.download('punkt')"
   ]
  },
  {
   "cell_type": "code",
   "execution_count": 2,
   "id": "d48662d8",
   "metadata": {},
   "outputs": [],
   "source": [
    "def wordtokenization(content):\n",
    "    words = nltk.word_tokenize(content.lower())\n",
    "    \n",
    "    filtered_w=[]\n",
    "    for wo in words:\n",
    "        if len(wo)>3:\n",
    "            filtered_w.append(wo)\n",
    "    \n",
    "    snowball_stemmer_obj = SnowballStemmer(\"russian\")\n",
    "    w = []\n",
    "    for word in filtered_w:\n",
    "        w.append(snowball_stemmer_obj.stem(word))\n",
    "    Freq_dist_nltk=nltk.FreqDist(w)\n",
    "    \n",
    "    sorted_freq_dist= sorted(Freq_dist_nltk.items(), key=operator.itemgetter(1),reverse=True)\n",
    "    return(sorted_freq_dist)"
   ]
  },
  {
   "cell_type": "code",
   "execution_count": 8,
   "id": "5e893692",
   "metadata": {},
   "outputs": [
    {
     "name": "stdout",
     "output_type": "stream",
     "text": [
      "[('пот', 4),\n",
      " ('войн', 2),\n",
      " ('всех', 2),\n",
      " ('личн', 2),\n",
      " ('себ', 2),\n",
      " ('сво', 2),\n",
      " ('дела', 2),\n",
      " ('наполеон', 1),\n",
      " ('нача', 1),\n",
      " ('росс', 1)]\n"
     ]
    }
   ],
   "source": [
    "text = \"\"\"Наполеон начал войну с Россией потому, что он не мог не приехать в Дрезден, не мог не отуманиться почестями, не мог не надеть польского мундира, не поддаться предприимчивому впечатлению июньского утра, не мог воздержаться от вспышки гнева в присутствии Куракина и потом Балашева. Александр отказывался от всех переговоров потому, что он лично чувствовал себя оскорбленным. Барклай де Толли старался наилучшим образом управлять армией для того, чтобы исполнить свой долг и заслужить славу великого полководца. Ростов поскакал в атаку на французов потому, что он не мог удержаться от желания проскакаться по ровному полю. И так точно, вследствие своих личных свойств, привычек, условий и целей, действовали все те неперечислимые лица, участники этой войны. Они боялись, тщеславились, радовались, негодовали, рассуждали, полагая, что они знают то, что они делают, и что делают для себя, а все были непроизвольными орудиями истории и производили скрытую от них, но понятную для нас работу. Такова неизменная судьба всех практических деятелей, и тем не свободнее, чем выше они стоят в людской иерархии.\"\"\"\n",
    "\n",
    "pprint(wordtokenization(text)[:10])"
   ]
  },
  {
   "cell_type": "code",
   "execution_count": null,
   "id": "c22d6d0e",
   "metadata": {},
   "outputs": [],
   "source": []
  }
 ],
 "metadata": {
  "kernelspec": {
   "display_name": "Python 3 (ipykernel)",
   "language": "python",
   "name": "python3"
  },
  "language_info": {
   "codemirror_mode": {
    "name": "ipython",
    "version": 3
   },
   "file_extension": ".py",
   "mimetype": "text/x-python",
   "name": "python",
   "nbconvert_exporter": "python",
   "pygments_lexer": "ipython3",
   "version": "3.8.2"
  }
 },
 "nbformat": 4,
 "nbformat_minor": 5
}
